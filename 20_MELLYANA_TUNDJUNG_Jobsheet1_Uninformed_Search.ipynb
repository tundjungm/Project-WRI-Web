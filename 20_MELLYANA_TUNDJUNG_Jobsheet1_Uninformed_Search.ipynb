{
  "nbformat": 4,
  "nbformat_minor": 0,
  "metadata": {
    "colab": {
      "provenance": [],
      "collapsed_sections": [],
      "authorship_tag": "ABX9TyOFgX8p98kRtRcQ30ZNt9PW",
      "include_colab_link": true
    },
    "kernelspec": {
      "name": "python3",
      "display_name": "Python 3"
    },
    "language_info": {
      "name": "python"
    }
  },
  "cells": [
    {
      "cell_type": "markdown",
      "metadata": {
        "id": "view-in-github",
        "colab_type": "text"
      },
      "source": [
        "<a href=\"https://colab.research.google.com/github/tundjungm/Project-WRI-Web/blob/main/20_MELLYANA_TUNDJUNG_Jobsheet1_Uninformed_Search.ipynb\" target=\"_parent\"><img src=\"https://colab.research.google.com/assets/colab-badge.svg\" alt=\"Open In Colab\"/></a>"
      ]
    },
    {
      "cell_type": "code",
      "source": [
        "#percobaan 1 BFS\n",
        "graph = {\n",
        "    'A' : ['B','C'],\n",
        "    'B' : ['D','E'],\n",
        "    'C' : ['F'],\n",
        "    'D' : [],\n",
        "    'E' : ['F'],\n",
        "    'F' : ['H'],\n",
        "    'G' : ['H'],\n",
        "    'H' : ['G']\n",
        "}\n",
        "\n",
        "visited = [] #List no keep track of visited nodes.\n",
        "queue = [] #Initialize a queue\n",
        "\n",
        "def bfs(visited, graph, node):\n",
        "  visited.append(node)\n",
        "  queue.append(node)\n",
        "\n",
        "  while queue :\n",
        "    s = queue.pop(0)\n",
        "    print (s, end = \" \")\n",
        "\n",
        "    for neighbour in graph[s]:\n",
        "      if neighbour not in visited:\n",
        "        visited.append(neighbour)\n",
        "        queue.append(neighbour)\n",
        "\n",
        "print(\"Hasil penulusuran graf menggunakan BFS: \")\n",
        "bfs(visited, graph, 'A')"
      ],
      "metadata": {
        "colab": {
          "base_uri": "https://localhost:8080/"
        },
        "id": "cpfLTlDcBFLy",
        "outputId": "8a934df5-35a5-4bf0-ed6d-daf4292c720a"
      },
      "execution_count": 10,
      "outputs": [
        {
          "output_type": "stream",
          "name": "stdout",
          "text": [
            "Hasil penulusuran graf menggunakan BFS: \n",
            "A B C D E F H G "
          ]
        }
      ]
    },
    {
      "cell_type": "code",
      "source": [],
      "metadata": {
        "id": "Hfk7E4-WMcIc"
      },
      "execution_count": null,
      "outputs": []
    },
    {
      "cell_type": "code",
      "source": [
        "#Praktikum 1 a\n",
        "graph = {\n",
        "    'A' : ['B','E'],\n",
        "    'B' : ['F','G'],\n",
        "    'E' : ['F'],\n",
        "    'F' : ['B'],\n",
        "    'B' : ['G'],\n",
        "    'G' : ['H','C'],\n",
        "    'C' : ['D'],\n",
        "    'H' : ['D'],\n",
        "    'D' : ['H','C']\n",
        "}\n",
        "\n",
        "visited = [] #List no keep track of visited nodes.\n",
        "queue = [] #Initialize a queue\n",
        "\n",
        "def bfs(visited, graph, node):\n",
        "  visited.append(node)\n",
        "  queue.append(node)\n",
        "\n",
        "  while queue :\n",
        "    s = queue.pop(0)\n",
        "    print (s, end = \" \")\n",
        "\n",
        "    for neighbour in graph[s]:\n",
        "      if neighbour not in visited:\n",
        "        visited.append(neighbour)\n",
        "        queue.append(neighbour)\n",
        "\n",
        "print(\"Hasil penulusuran graf menggunakan BFS: \")\n",
        "bfs(visited, graph, 'A')"
      ],
      "metadata": {
        "colab": {
          "base_uri": "https://localhost:8080/"
        },
        "id": "rKxp9Oy2FHFr",
        "outputId": "16680b3a-a9f5-4b29-9953-5d69fd9fafb7"
      },
      "execution_count": 13,
      "outputs": [
        {
          "output_type": "stream",
          "name": "stdout",
          "text": [
            "Hasil penulusuran graf menggunakan BFS: \n",
            "A B E G F H C D "
          ]
        }
      ]
    },
    {
      "cell_type": "code",
      "source": [
        "#praktikum1 b\n",
        "graph = {\n",
        "    'A' : ['B','E'],\n",
        "    'B' : ['F','G'],\n",
        "    'E' : ['F'],\n",
        "    'F' : ['B'],\n",
        "    'B' : ['G'],\n",
        "    'G' : ['H','C'],\n",
        "    'C' : ['D'],\n",
        "    'H' : ['D'],\n",
        "    'D' : ['H','C']\n",
        "}\n",
        "\n",
        "visited = set()\n",
        "\n",
        "def dfs(visited, graph, node):\n",
        "  if node not in visited:\n",
        "    print(node)\n",
        "    visited.add(node)\n",
        "    for neighbour in graph[node]:\n",
        "      dfs(visited, graph, neighbour)\n",
        "\n",
        "print(\"Hasil penulusuran graf menggunakan DFS: \")\n",
        "dfs(visited, graph, 'A')      "
      ],
      "metadata": {
        "colab": {
          "base_uri": "https://localhost:8080/"
        },
        "id": "RSpopgjxGVWK",
        "outputId": "89402e55-9767-4940-eccd-0966a576b2b2"
      },
      "execution_count": 14,
      "outputs": [
        {
          "output_type": "stream",
          "name": "stdout",
          "text": [
            "Hasil penulusuran graf menggunakan DFS: \n",
            "A\n",
            "B\n",
            "G\n",
            "H\n",
            "D\n",
            "C\n",
            "E\n",
            "F\n"
          ]
        }
      ]
    },
    {
      "cell_type": "code",
      "source": [
        "#praktikum 2a\n",
        "graph = {\n",
        "    'A' : ['B'],\n",
        "    'B' : ['F','G'],\n",
        "    'C' : ['G','D'],\n",
        "    'D' : ['C','H'],\n",
        "    'E' : ['F'],\n",
        "    'F' : ['B'],\n",
        "    'G' : ['B','C'],\n",
        "    'H' : ['D']\n",
        "}\n",
        "visited = [] #List no keep track of visited nodes.\n",
        "queue = [] #Initialize a queue\n",
        "\n",
        "def bfs(visited, graph, node):\n",
        "  visited.append(node)\n",
        "  queue.append(node)\n",
        "\n",
        "  while queue :\n",
        "    s = queue.pop(0)\n",
        "    print (s, end = \" \")\n",
        "\n",
        "    for neighbour in graph[s]:\n",
        "      if neighbour not in visited:\n",
        "        visited.append(neighbour)\n",
        "        queue.append(neighbour)\n",
        "\n",
        "print(\"Hasil penulusuran graf menggunakan BFS: \")\n",
        "bfs(visited, graph, 'D')"
      ],
      "metadata": {
        "colab": {
          "base_uri": "https://localhost:8080/"
        },
        "id": "txtXOuP2Lb7U",
        "outputId": "1182fa8a-e39a-4415-e027-bd45abc5847f"
      },
      "execution_count": 16,
      "outputs": [
        {
          "output_type": "stream",
          "name": "stdout",
          "text": [
            "Hasil penulusuran graf menggunakan BFS: \n",
            "D C H G B F "
          ]
        }
      ]
    },
    {
      "cell_type": "code",
      "source": [
        "#PRAKTIKUM 2B\n",
        "graph = {\n",
        "    'A' : ['B'],\n",
        "    'B' : ['F','G'],\n",
        "    'C' : ['G','D'],\n",
        "    'D' : ['C','H'],\n",
        "    'E' : ['F'],\n",
        "    'F' : ['B'],\n",
        "    'G' : ['B','C'],\n",
        "    'H' : ['D']\n",
        "}\n",
        "visited = set()\n",
        "\n",
        "def dfs(visited, graph, node):\n",
        "  if node not in visited:\n",
        "    print(node)\n",
        "    visited.add(node)\n",
        "    for neighbour in graph[node]:\n",
        "      dfs(visited, graph, neighbour)\n",
        "\n",
        "print(\"Hasil penulusuran graf menggunakan DFS: \")\n",
        "dfs(visited, graph, 'D')      "
      ],
      "metadata": {
        "colab": {
          "base_uri": "https://localhost:8080/"
        },
        "id": "aBn85CoENzhr",
        "outputId": "3c814969-6f56-4f62-fc30-dcce2bcc6ce3"
      },
      "execution_count": 17,
      "outputs": [
        {
          "output_type": "stream",
          "name": "stdout",
          "text": [
            "Hasil penulusuran graf menggunakan DFS: \n",
            "D\n",
            "C\n",
            "G\n",
            "B\n",
            "F\n",
            "H\n"
          ]
        }
      ]
    },
    {
      "cell_type": "code",
      "source": [
        "#percobaan dfs\n",
        "graph = {\n",
        "    'A' : ['B','C'],\n",
        "    'B' : ['D','E'],\n",
        "    'C' : ['F'],\n",
        "    'D' : [],\n",
        "    'E' : ['F'],\n",
        "    'F' : ['H'],\n",
        "    'G' : ['H'],\n",
        "    'H' : ['G']\n",
        "}\n",
        "visited = set()\n",
        "\n",
        "def dfs(visited, graph, node):\n",
        "  if node not in visited:\n",
        "    print(node)\n",
        "    visited.add(node)\n",
        "    for neighbour in graph[node]:\n",
        "      dfs(visited, graph, neighbour)\n",
        "\n",
        "print(\"Hasil penulusuran graf menggunakan DFS: \")\n",
        "dfs(visited, graph, 'A')      "
      ],
      "metadata": {
        "colab": {
          "base_uri": "https://localhost:8080/"
        },
        "id": "HVDxXMgtDyAV",
        "outputId": "2add4091-9ea1-4887-9fbf-0f3f36315d26"
      },
      "execution_count": 11,
      "outputs": [
        {
          "output_type": "stream",
          "name": "stdout",
          "text": [
            "Hasil penulusuran graf menggunakan DFS: \n",
            "A\n",
            "B\n",
            "D\n",
            "E\n",
            "F\n",
            "H\n",
            "G\n",
            "C\n"
          ]
        }
      ]
    }
  ]
}